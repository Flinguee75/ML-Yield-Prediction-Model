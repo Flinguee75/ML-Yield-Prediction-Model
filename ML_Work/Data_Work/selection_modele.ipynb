{
 "cells": [
  {
   "cell_type": "markdown",
   "metadata": {},
   "source": [
    "SELECTION DU MODELE"
   ]
  },
  {
   "cell_type": "code",
   "execution_count": 15,
   "metadata": {},
   "outputs": [],
   "source": [
    "import pandas as pd\n",
    "from sklearn.model_selection import train_test_split"
   ]
  },
  {
   "cell_type": "code",
   "execution_count": 16,
   "metadata": {},
   "outputs": [
    {
     "data": {
      "text/html": [
       "<div>\n",
       "<style scoped>\n",
       "    .dataframe tbody tr th:only-of-type {\n",
       "        vertical-align: middle;\n",
       "    }\n",
       "\n",
       "    .dataframe tbody tr th {\n",
       "        vertical-align: top;\n",
       "    }\n",
       "\n",
       "    .dataframe thead th {\n",
       "        text-align: right;\n",
       "    }\n",
       "</style>\n",
       "<table border=\"1\" class=\"dataframe\">\n",
       "  <thead>\n",
       "    <tr style=\"text-align: right;\">\n",
       "      <th></th>\n",
       "      <th>nom_region</th>\n",
       "      <th>nom_espece</th>\n",
       "      <th>superficie</th>\n",
       "      <th>pluviometrie</th>\n",
       "      <th>rendement_moyen</th>\n",
       "      <th>annee</th>\n",
       "      <th>temperature_moyenne</th>\n",
       "      <th>mois_plantation</th>\n",
       "      <th>log_pluviometrie</th>\n",
       "      <th>categorie_pluviometrie</th>\n",
       "    </tr>\n",
       "  </thead>\n",
       "  <tbody>\n",
       "    <tr>\n",
       "      <th>0</th>\n",
       "      <td>Abidjan</td>\n",
       "      <td>Cacao</td>\n",
       "      <td>311.35</td>\n",
       "      <td>221.88</td>\n",
       "      <td>9.40</td>\n",
       "      <td>2019</td>\n",
       "      <td>25.670</td>\n",
       "      <td>4</td>\n",
       "      <td>5.406634</td>\n",
       "      <td>Moyenne</td>\n",
       "    </tr>\n",
       "    <tr>\n",
       "      <th>1</th>\n",
       "      <td>Abidjan</td>\n",
       "      <td>Cacao</td>\n",
       "      <td>141.35</td>\n",
       "      <td>221.88</td>\n",
       "      <td>9.40</td>\n",
       "      <td>2019</td>\n",
       "      <td>25.670</td>\n",
       "      <td>8</td>\n",
       "      <td>5.406634</td>\n",
       "      <td>Moyenne</td>\n",
       "    </tr>\n",
       "    <tr>\n",
       "      <th>2</th>\n",
       "      <td>Abidjan</td>\n",
       "      <td>Cacao</td>\n",
       "      <td>301.74</td>\n",
       "      <td>221.88</td>\n",
       "      <td>9.40</td>\n",
       "      <td>2019</td>\n",
       "      <td>25.670</td>\n",
       "      <td>3</td>\n",
       "      <td>5.406634</td>\n",
       "      <td>Moyenne</td>\n",
       "    </tr>\n",
       "    <tr>\n",
       "      <th>3</th>\n",
       "      <td>Abidjan</td>\n",
       "      <td>Café</td>\n",
       "      <td>114.35</td>\n",
       "      <td>92.11</td>\n",
       "      <td>6.29</td>\n",
       "      <td>2019</td>\n",
       "      <td>29.375</td>\n",
       "      <td>6</td>\n",
       "      <td>4.533782</td>\n",
       "      <td>Faible</td>\n",
       "    </tr>\n",
       "    <tr>\n",
       "      <th>4</th>\n",
       "      <td>Abidjan</td>\n",
       "      <td>Café</td>\n",
       "      <td>253.65</td>\n",
       "      <td>92.11</td>\n",
       "      <td>6.29</td>\n",
       "      <td>2019</td>\n",
       "      <td>29.375</td>\n",
       "      <td>12</td>\n",
       "      <td>4.533782</td>\n",
       "      <td>Faible</td>\n",
       "    </tr>\n",
       "  </tbody>\n",
       "</table>\n",
       "</div>"
      ],
      "text/plain": [
       "  nom_region nom_espece  superficie  pluviometrie  rendement_moyen  annee  \\\n",
       "0    Abidjan      Cacao      311.35        221.88             9.40   2019   \n",
       "1    Abidjan      Cacao      141.35        221.88             9.40   2019   \n",
       "2    Abidjan      Cacao      301.74        221.88             9.40   2019   \n",
       "3    Abidjan       Café      114.35         92.11             6.29   2019   \n",
       "4    Abidjan       Café      253.65         92.11             6.29   2019   \n",
       "\n",
       "   temperature_moyenne  mois_plantation  log_pluviometrie  \\\n",
       "0               25.670                4          5.406634   \n",
       "1               25.670                8          5.406634   \n",
       "2               25.670                3          5.406634   \n",
       "3               29.375                6          4.533782   \n",
       "4               29.375               12          4.533782   \n",
       "\n",
       "  categorie_pluviometrie  \n",
       "0                Moyenne  \n",
       "1                Moyenne  \n",
       "2                Moyenne  \n",
       "3                 Faible  \n",
       "4                 Faible  "
      ]
     },
     "execution_count": 16,
     "metadata": {},
     "output_type": "execute_result"
    }
   ],
   "source": [
    "\n",
    "# Download the dataset\n",
    "dataset = pd.read_csv('dataset_cleaned.csv')\n",
    "\n",
    "# Display the first few rows of the dataframe\n",
    "dataset.head()"
   ]
  },
  {
   "cell_type": "markdown",
   "metadata": {},
   "source": [
    "Preprocessing"
   ]
  },
  {
   "cell_type": "code",
   "execution_count": 17,
   "metadata": {},
   "outputs": [],
   "source": [
    "import numpy as np\n",
    "from sklearn.compose import make_column_transformer, make_column_selector\n",
    "from sklearn.pipeline import Pipeline\n",
    "from sklearn.preprocessing import OneHotEncoder, StandardScaler\n",
    "\n"
   ]
  },
  {
   "cell_type": "code",
   "execution_count": 18,
   "metadata": {},
   "outputs": [
    {
     "name": "stdout",
     "output_type": "stream",
     "text": [
      "Colonnes numériques : Index(['superficie', 'pluviometrie', 'annee', 'temperature_moyenne',\n",
      "       'mois_plantation', 'log_pluviometrie'],\n",
      "      dtype='object')\n",
      "Colonnes catégoriques : Index(['nom_region', 'nom_espece', 'categorie_pluviometrie'], dtype='object')\n"
     ]
    }
   ],
   "source": [
    "# 1. Séparation des caractéristiques (features) et de la cible (target)\n",
    "X = dataset.drop('rendement_moyen', axis=1)\n",
    "y = dataset['rendement_moyen']\n",
    "\n",
    "# 2. Identification des colonnes numériques et non numériques\n",
    "numeric_columns = X.select_dtypes(include=['number']).columns\n",
    "categorical_columns = X.select_dtypes(exclude=['number']).columns\n",
    "\n",
    "print(\"Colonnes numériques :\", numeric_columns)\n",
    "print(\"Colonnes catégoriques :\", categorical_columns)\n",
    "\n",
    "# 3. Création du préprocesseur\n",
    "#    - Encodage OneHotEncoder pour les colonnes catégoriques.\n",
    "#    - Standardisation (StandardScaler) pour les colonnes numériques.\n",
    "preprocessor = make_column_transformer(\n",
    "    (StandardScaler(), make_column_selector(dtype_include=np.number)),  # Standardisation des colonnes numériques\n",
    "    (OneHotEncoder(), make_column_selector(dtype_exclude=np.number))   # Encodage des colonnes catégoriques\n",
    ")\n",
    "\n",
    "# 4. Création du pipeline\n",
    "pipeline = Pipeline([\n",
    "    ('preprocessor', preprocessor)\n",
    "])\n",
    "\n",
    "# 5. Division des données en ensembles d'entraînement et de test\n",
    "X_train, X_test, y_train, y_test = train_test_split(X, y, test_size=0.2, random_state=42)\n",
    "\n",
    "# 6. Application du pipeline aux données\n",
    "X_train = pipeline.fit_transform(X_train)  # Ajustement et transformation sur l'ensemble d'entraînement\n",
    "X_test = pipeline.transform(X_test)        # Transformation uniquement sur l'ensemble de test"
   ]
  },
  {
   "cell_type": "markdown",
   "metadata": {},
   "source": [
    "RFECV pour Validation Croisée Automatique"
   ]
  },
  {
   "cell_type": "code",
   "execution_count": 19,
   "metadata": {},
   "outputs": [],
   "source": [
    "from sklearn.feature_selection import SelectFromModel\n",
    "from sklearn.model_selection import cross_val_score\n",
    "from sklearn.linear_model import LassoCV\n",
    "from sklearn.ensemble import RandomForestRegressor\n",
    "from sklearn.feature_selection import RFECV\n",
    "\n"
   ]
  },
  {
   "cell_type": "code",
   "execution_count": 20,
   "metadata": {},
   "outputs": [
    {
     "name": "stdout",
     "output_type": "stream",
     "text": [
      "Nombre optimal de caractéristiques : 35\n"
     ]
    }
   ],
   "source": [
    "# Modèle utilisé pour RFECV\n",
    "model = RandomForestRegressor(random_state=42)\n",
    "\n",
    "# RFECV pour sélection récursive avec validation croisée\n",
    "rfecv = RFECV(estimator=model, step=1, cv=5, scoring='r2')  # 5-fold cross-validation\n",
    "rfecv.fit(X_train, y_train)\n",
    "\n",
    "# Résultats\n",
    "print(\"Nombre optimal de caractéristiques :\", rfecv.n_features_)"
   ]
  },
  {
   "cell_type": "code",
   "execution_count": 21,
   "metadata": {},
   "outputs": [
    {
     "name": "stdout",
     "output_type": "stream",
     "text": [
      "Scores moyens (R²) pour chaque nombre de caractéristiques : [0.76783509 0.77201804 0.77213856 0.61083419 0.55879801 0.61838578\n",
      " 0.6436908  0.67219025 0.71408638 0.72905949 0.72760366 0.74154994\n",
      " 0.73986543 0.75987806 0.76308018 0.77606944 0.77916442 0.7819086\n",
      " 0.78764687 0.79147297 0.79826013 0.80286214 0.80654083 0.80619448\n",
      " 0.80809024 0.81293046 0.81163412 0.81400403 0.8142673  0.81782658\n",
      " 0.81991561 0.82198333 0.82315639 0.8260233  0.82700429 0.82607352\n",
      " 0.82435543]\n"
     ]
    }
   ],
   "source": [
    "mean_cv_scores = rfecv.cv_results_['mean_test_score']\n",
    "print(\"Scores moyens (R²) pour chaque nombre de caractéristiques :\", mean_cv_scores)\n"
   ]
  },
  {
   "cell_type": "markdown",
   "metadata": {},
   "source": [
    "Affichage des Colonnes selectionnées"
   ]
  },
  {
   "cell_type": "code",
   "execution_count": 22,
   "metadata": {},
   "outputs": [
    {
     "name": "stdout",
     "output_type": "stream",
     "text": [
      "Colonnes sélectionnées par RFECV :\n",
      "['standardscaler__superficie', 'standardscaler__pluviometrie', 'standardscaler__temperature_moyenne', 'standardscaler__mois_plantation', 'standardscaler__log_pluviometrie', 'onehotencoder__nom_region_Abidjan', 'onehotencoder__nom_region_Bas-Sassandra', 'onehotencoder__nom_region_Comoé', 'onehotencoder__nom_region_Denguélé', 'onehotencoder__nom_region_Gôh-Djiboua', 'onehotencoder__nom_region_Lacs', 'onehotencoder__nom_region_Lagunes', 'onehotencoder__nom_region_Montagnes', 'onehotencoder__nom_region_Sassandra-Marahoué', 'onehotencoder__nom_region_Savanes', 'onehotencoder__nom_region_Vallée du Bandama', 'onehotencoder__nom_region_Woroba', 'onehotencoder__nom_region_Yamoussoukro', 'onehotencoder__nom_region_Zanzan', 'onehotencoder__nom_espece_Acajou', 'onehotencoder__nom_espece_Anacardier', 'onehotencoder__nom_espece_Cacao', 'onehotencoder__nom_espece_Café', 'onehotencoder__nom_espece_Cocotier', 'onehotencoder__nom_espece_Eucalyptus', 'onehotencoder__nom_espece_Goyave', 'onehotencoder__nom_espece_Hévéa', 'onehotencoder__nom_espece_Iroko', 'onehotencoder__nom_espece_Mangue', 'onehotencoder__nom_espece_Palmier à huile', 'onehotencoder__nom_espece_Papaye', 'onehotencoder__nom_espece_Samba', 'onehotencoder__nom_espece_Teck', 'onehotencoder__categorie_pluviometrie_Faible', 'onehotencoder__categorie_pluviometrie_Moyenne']\n"
     ]
    }
   ],
   "source": [
    "# Récupérer les noms des colonnes après transformation\n",
    "feature_names = pipeline.named_steps['preprocessor'].get_feature_names_out()\n",
    "\n",
    "# Filtrer les colonnes sélectionnées\n",
    "selected_features = [feature_names[i] for i in range(len(feature_names)) if rfecv.support_[i]]\n",
    "\n",
    "# Afficher les colonnes sélectionnées\n",
    "print(\"Colonnes sélectionnées par RFECV :\")\n",
    "print(selected_features)\n",
    "\n"
   ]
  },
  {
   "cell_type": "markdown",
   "metadata": {},
   "source": [
    "Réentraîner un modèle avec les caractéristiques sélectionnées"
   ]
  },
  {
   "cell_type": "code",
   "execution_count": 23,
   "metadata": {},
   "outputs": [
    {
     "name": "stdout",
     "output_type": "stream",
     "text": [
      "Mean Squared Error: 0.2530\n",
      "R² Score: 0.9612\n"
     ]
    }
   ],
   "source": [
    "# Réduire les données aux caractéristiques sélectionnées\n",
    "X_train_selected = rfecv.transform(X_train)\n",
    "X_test_selected = rfecv.transform(X_test)\n",
    "\n",
    "# Réentraîner un modèle avec les caractéristiques sélectionnées\n",
    "final_model = RandomForestRegressor(random_state=42)\n",
    "final_model.fit(X_train_selected, y_train)\n",
    "\n",
    "# Évaluer le modèle sur les données de test\n",
    "y_pred = final_model.predict(X_test_selected)\n",
    "from sklearn.metrics import mean_squared_error, r2_score\n",
    "print(f\"Mean Squared Error: {mean_squared_error(y_test, y_pred):.4f}\")\n",
    "print(f\"R² Score: {r2_score(y_test, y_pred):.4f}\")\n"
   ]
  },
  {
   "cell_type": "markdown",
   "metadata": {},
   "source": [
    "Cross validation pour voir si le modele est stable"
   ]
  },
  {
   "cell_type": "code",
   "execution_count": 24,
   "metadata": {},
   "outputs": [
    {
     "name": "stdout",
     "output_type": "stream",
     "text": [
      "Validation croisée - Score R² moyen : 0.8270 ± 0.0378\n"
     ]
    }
   ],
   "source": [
    "# Validation croisée sur le modèle actuel\n",
    "cv_scores = cross_val_score(final_model, X_train_selected, y_train, cv=5, scoring='r2')\n",
    "\n",
    "print(f\"Validation croisée - Score R² moyen : {cv_scores.mean():.4f} ± {cv_scores.std():.4f}\")"
   ]
  },
  {
   "cell_type": "markdown",
   "metadata": {},
   "source": [
    "Installation du modele"
   ]
  },
  {
   "cell_type": "code",
   "execution_count": 25,
   "metadata": {},
   "outputs": [
    {
     "data": {
      "text/plain": [
       "['final_model.pkl']"
      ]
     },
     "execution_count": 25,
     "metadata": {},
     "output_type": "execute_result"
    }
   ],
   "source": [
    "import joblib\n",
    "\n",
    "# Sauvegarder le modèle\n",
    "joblib.dump(final_model, \"final_model.pkl\")\n",
    "\n"
   ]
  },
  {
   "cell_type": "code",
   "execution_count": 31,
   "metadata": {},
   "outputs": [
    {
     "data": {
      "text/plain": [
       "['selected_features.pkl']"
      ]
     },
     "execution_count": 31,
     "metadata": {},
     "output_type": "execute_result"
    }
   ],
   "source": [
    "# Sauvegarder les colonnes sélectionnées\n",
    "joblib.dump(X.columns.to_list(), \"features_names.pkl\")\n",
    "joblib.dump(list(selected_features), \"selected_features.pkl\")\n"
   ]
  },
  {
   "cell_type": "code",
   "execution_count": 27,
   "metadata": {},
   "outputs": [
    {
     "data": {
      "text/plain": [
       "['preprocessor.pkl']"
      ]
     },
     "execution_count": 27,
     "metadata": {},
     "output_type": "execute_result"
    }
   ],
   "source": [
    "# Sauvegarder les prétraitement\n",
    "joblib.dump(preprocessor, \"preprocessor.pkl\")"
   ]
  },
  {
   "cell_type": "code",
   "execution_count": 28,
   "metadata": {},
   "outputs": [
    {
     "name": "stdout",
     "output_type": "stream",
     "text": [
      "Type  : <class 'list'>\n"
     ]
    }
   ],
   "source": []
  }
 ],
 "metadata": {
  "kernelspec": {
   "display_name": "data_env",
   "language": "python",
   "name": "python3"
  },
  "language_info": {
   "codemirror_mode": {
    "name": "ipython",
    "version": 3
   },
   "file_extension": ".py",
   "mimetype": "text/x-python",
   "name": "python",
   "nbconvert_exporter": "python",
   "pygments_lexer": "ipython3",
   "version": "3.13.1"
  }
 },
 "nbformat": 4,
 "nbformat_minor": 2
}
