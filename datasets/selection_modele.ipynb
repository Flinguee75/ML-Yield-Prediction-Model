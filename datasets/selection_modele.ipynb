{
 "cells": [
  {
   "cell_type": "markdown",
   "metadata": {},
   "source": [
    "SELECTION DU MODELE"
   ]
  },
  {
   "cell_type": "code",
   "execution_count": null,
   "metadata": {},
   "outputs": [
    {
     "ename": "",
     "evalue": "",
     "output_type": "error",
     "traceback": [
      "\u001b[1;31mRunning cells with 'data_env (Python 3.13.1)' requires the ipykernel package.\n",
      "\u001b[1;31mRun the following command to install 'ipykernel' into the Python environment. \n",
      "\u001b[1;31mCommand: 'c:/Users/kadyk/Projets/INAD-CI-PROJECT/data_env/Scripts/python.exe -m pip install ipykernel -U --force-reinstall'"
     ]
    }
   ],
   "source": [
    "import pandas as pd\n",
    "from sklearn.model_selection import train_test_split"
   ]
  },
  {
   "cell_type": "code",
   "execution_count": null,
   "metadata": {},
   "outputs": [],
   "source": [
    "\n",
    "# Download the dataset\n",
    "dataset = pd.read_csv('dataset_cleaned.csv')\n",
    "\n",
    "# Display the first few rows of the dataframe\n",
    "dataset.head()"
   ]
  },
  {
   "cell_type": "code",
   "execution_count": null,
   "metadata": {},
   "outputs": [],
   "source": []
  },
  {
   "cell_type": "markdown",
   "metadata": {},
   "source": [
    "Preprocessing"
   ]
  },
  {
   "cell_type": "code",
   "execution_count": 10,
   "metadata": {},
   "outputs": [],
   "source": [
    "import numpy as np\n",
    "from sklearn.compose import make_column_transformer, make_column_selector\n",
    "from sklearn.pipeline import Pipeline\n",
    "from sklearn.preprocessing import OneHotEncoder, StandardScaler\n",
    "\n"
   ]
  },
  {
   "cell_type": "code",
   "execution_count": null,
   "metadata": {},
   "outputs": [],
   "source": [
    "# 1. Séparation des caractéristiques (features) et de la cible (target)\n",
    "X = dataset.drop('rendement_moyen', axis=1)\n",
    "y = dataset['rendement_moyen']\n",
    "\n",
    "# 2. Identification des colonnes numériques et non numériques\n",
    "numeric_columns = X.select_dtypes(include=['number']).columns\n",
    "categorical_columns = X.select_dtypes(exclude=['number']).columns\n",
    "\n",
    "print(\"Colonnes numériques :\", numeric_columns)\n",
    "print(\"Colonnes catégoriques :\", categorical_columns)\n",
    "\n",
    "# 3. Création du préprocesseur\n",
    "#    - Encodage OneHotEncoder pour les colonnes catégoriques.\n",
    "#    - Standardisation (StandardScaler) pour les colonnes numériques.\n",
    "preprocessor = make_column_transformer(\n",
    "    (StandardScaler(), make_column_selector(dtype_include=np.number)),  # Standardisation des colonnes numériques\n",
    "    (OneHotEncoder(), make_column_selector(dtype_exclude=np.number))   # Encodage des colonnes catégoriques\n",
    ")\n",
    "\n",
    "# 4. Création du pipeline\n",
    "pipeline = Pipeline([\n",
    "    ('preprocessor', preprocessor)\n",
    "])\n",
    "\n",
    "# 5. Division des données en ensembles d'entraînement et de test\n",
    "X_train, X_test, y_train, y_test = train_test_split(X, y, test_size=0.2, random_state=42)\n",
    "\n",
    "# 6. Application du pipeline aux données\n",
    "X_train = pipeline.fit_transform(X_train)  # Ajustement et transformation sur l'ensemble d'entraînement\n",
    "X_test = pipeline.transform(X_test)        # Transformation uniquement sur l'ensemble de test"
   ]
  },
  {
   "cell_type": "markdown",
   "metadata": {},
   "source": [
    "RFECV pour Validation Croisée Automatique"
   ]
  },
  {
   "cell_type": "code",
   "execution_count": 16,
   "metadata": {},
   "outputs": [],
   "source": [
    "from sklearn.feature_selection import SelectFromModel\n",
    "from sklearn.model_selection import cross_val_score\n",
    "from sklearn.linear_model import LassoCV\n",
    "from sklearn.ensemble import RandomForestRegressor\n",
    "from sklearn.feature_selection import RFECV\n",
    "\n"
   ]
  },
  {
   "cell_type": "code",
   "execution_count": null,
   "metadata": {},
   "outputs": [],
   "source": [
    "# Modèle utilisé pour RFECV\n",
    "model = RandomForestRegressor(random_state=42)\n",
    "\n",
    "# RFECV pour sélection récursive avec validation croisée\n",
    "rfecv = RFECV(estimator=model, step=1, cv=5, scoring='r2')  # 5-fold cross-validation\n",
    "rfecv.fit(X_train, y_train)\n",
    "\n",
    "# Résultats\n",
    "print(\"Nombre optimal de caractéristiques :\", rfecv.n_features_)"
   ]
  },
  {
   "cell_type": "code",
   "execution_count": null,
   "metadata": {},
   "outputs": [],
   "source": [
    "mean_cv_scores = rfecv.cv_results_['mean_test_score']\n",
    "print(\"Scores moyens (R²) pour chaque nombre de caractéristiques :\", mean_cv_scores)\n"
   ]
  },
  {
   "cell_type": "markdown",
   "metadata": {},
   "source": [
    "Affichage des Colonnes selectionnées"
   ]
  },
  {
   "cell_type": "code",
   "execution_count": null,
   "metadata": {},
   "outputs": [],
   "source": [
    "# Récupérer les noms des colonnes après transformation\n",
    "feature_names = pipeline.named_steps['preprocessor'].get_feature_names_out()\n",
    "\n",
    "# Filtrer les colonnes sélectionnées\n",
    "selected_features = [feature_names[i] for i in range(len(feature_names)) if rfecv.support_[i]]\n",
    "\n",
    "# Afficher les colonnes sélectionnées\n",
    "print(\"Colonnes sélectionnées par RFECV :\")\n",
    "print(selected_features)\n"
   ]
  }
 ],
 "metadata": {
  "kernelspec": {
   "display_name": "data_env",
   "language": "python",
   "name": "python3"
  },
  "language_info": {
   "codemirror_mode": {
    "name": "ipython",
    "version": 3
   },
   "file_extension": ".py",
   "mimetype": "text/x-python",
   "name": "python",
   "nbconvert_exporter": "python",
   "pygments_lexer": "ipython3",
   "version": "3.13.1"
  }
 },
 "nbformat": 4,
 "nbformat_minor": 2
}
